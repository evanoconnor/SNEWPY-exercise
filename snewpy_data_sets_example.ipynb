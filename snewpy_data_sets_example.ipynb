{
 "cells": [
  {
   "cell_type": "code",
   "execution_count": null,
   "id": "0b531007",
   "metadata": {},
   "outputs": [],
   "source": [
    "from snewpy.neutrino import Flavor\n",
    "from snewpy.models.ccsn import Fornax_2021\n",
    "from snewpy.models.ccsn import Warren_2020\n",
    "from snewpy.models.ccsn import Tamborra_2014\n",
    "import snewpy\n",
    "\n",
    "from astropy import units as u\n",
    "from glob import glob\n",
    "\n",
    "import matplotlib as mpl\n",
    "import matplotlib.pyplot as plt\n",
    "import numpy as np\n",
    "\n",
    "mpl.rc('font', size=16)"
   ]
  },
  {
   "cell_type": "code",
   "execution_count": null,
   "id": "9d3cb068",
   "metadata": {},
   "outputs": [],
   "source": [
    "for m in Fornax_2021.param['progenitor_mass'].value[:]:\n",
    "    model = Fornax_2021(progenitor_mass=m*u.solMass)\n",
    "    for flavor in Flavor:\n",
    "        if flavor.is_electron:\n",
    "            if flavor.is_neutrino:\n",
    "                color = 'C0'\n",
    "            else:\n",
    "                color = \"C2\"\n",
    "        else:\n",
    "            color='C1'\n",
    "        plt.plot(model.time, model.luminosity[flavor]/1e51,  # Report luminosity in units foe/s\n",
    "                label=flavor.to_tex(),\n",
    "                color=color,\n",
    "                ls='-' if flavor.is_neutrino else ':',\n",
    "                lw=2)\n",
    "plt.xlim(-0.05, 0.5)\n",
    "plt.ylim(0,120)\n",
    "plt.ylabel(\"Luminosity [$10^{51}$ erg/s]\")\n",
    "plt.xlabel(\"$t - t_\\mathrm{bounce}$ [s]\")\n",
    "plt.show()"
   ]
  },
  {
   "cell_type": "code",
   "execution_count": null,
   "id": "4263992c",
   "metadata": {
    "scrolled": false
   },
   "outputs": [],
   "source": [
    "for m in Warren_2020.param['progenitor_mass'].value[:]:\n",
    "    model = Warren_2020(progenitor_mass=m*u.solMass,turbmixing_param=1.25)\n",
    "    for flavor in Flavor:\n",
    "        if flavor.is_electron:\n",
    "            if flavor.is_neutrino:\n",
    "                color = 'C0'\n",
    "            else:\n",
    "                color = \"C2\"\n",
    "        else:\n",
    "            color='C1'\n",
    "        plt.plot(model.time, model.luminosity[flavor]/1e51,  # Report luminosity in units foe/s\n",
    "                label=flavor.to_tex(),\n",
    "                color=color,\n",
    "                ls='-' if flavor.is_neutrino else ':',\n",
    "                lw=2)\n",
    "plt.xlim(-0.05, 0.5)\n",
    "plt.ylim(0,120)\n",
    "plt.ylabel(\"Luminosity [$10^{51}$ erg/s]\")\n",
    "plt.xlabel(\"$t - t_\\mathrm{bounce}$ [s]\")\n",
    "plt.show()"
   ]
  },
  {
   "cell_type": "code",
   "execution_count": null,
   "id": "c5d4f807",
   "metadata": {},
   "outputs": [],
   "source": [
    "model = Tamborra_2014(progenitor_mass=20.*u.solMass)\n",
    "for flavor in Flavor:\n",
    "    if flavor.is_electron:\n",
    "        if flavor.is_neutrino:\n",
    "            color = 'C0'\n",
    "        else:\n",
    "            color = \"C2\"\n",
    "    else:\n",
    "        color='C1'\n",
    "    plt.plot(model.time, model.luminosity[flavor]/1e51,  # Report luminosity in units foe/s\n",
    "            label=flavor.to_tex(),\n",
    "            color=color,\n",
    "            ls='-' if flavor.is_neutrino else ':',\n",
    "            lw=2)\n",
    "plt.xlim(-0.05, 0.5)\n",
    "plt.ylim(0,120)\n",
    "plt.ylabel(\"Luminosity [$10^{51}$ erg/s]\")\n",
    "plt.xlabel(\"$t - t_\\mathrm{bounce}$ [s]\")\n",
    "plt.show()"
   ]
  }
 ],
 "metadata": {
  "kernelspec": {
   "display_name": "Python 3 (ipykernel)",
   "language": "python",
   "name": "python3"
  },
  "language_info": {
   "codemirror_mode": {
    "name": "ipython",
    "version": 3
   },
   "file_extension": ".py",
   "mimetype": "text/x-python",
   "name": "python",
   "nbconvert_exporter": "python",
   "pygments_lexer": "ipython3",
   "version": "3.8.8"
  }
 },
 "nbformat": 4,
 "nbformat_minor": 5
}
