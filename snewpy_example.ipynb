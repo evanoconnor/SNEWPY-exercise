{
 "cells": [
  {
   "cell_type": "code",
   "execution_count": null,
   "id": "8f585a99",
   "metadata": {},
   "outputs": [],
   "source": [
    "from snewpy import snowglobes\n",
    "from astropy import units as u\n",
    "import snewpy"
   ]
  },
  {
   "cell_type": "code",
   "execution_count": null,
   "id": "8a381a7c",
   "metadata": {},
   "outputs": [],
   "source": [
    "SNOwGLoBES_path = None"
   ]
  },
  {
   "cell_type": "code",
   "execution_count": null,
   "id": "709a3ffe",
   "metadata": {},
   "outputs": [],
   "source": [
    "snewpy.get_models('OConnor_2015')"
   ]
  },
  {
   "cell_type": "code",
   "execution_count": null,
   "id": "c769f446",
   "metadata": {},
   "outputs": [],
   "source": [
    "distance = 10  # Supernova distance in kpc\n",
    "detector = \"wc100kt30prct\" #SNOwGLoBES detector for water Cerenkov\n",
    "modeltype = 'OConnor_2015' # Model type from snewpy.models\n",
    "transformation = 'AdiabaticMSW_NMO' # Desired flavor transformation\n",
    "model_path = './SNEWPY_models/OConnor_2015/M1_neutrinos.dat'\n",
    "outfile = modeltype + \"_\" + transformation"
   ]
  },
  {
   "cell_type": "code",
   "execution_count": null,
   "id": "af084f7a",
   "metadata": {},
   "outputs": [],
   "source": [
    "# Now, do the main work:\n",
    "print(\"Generating fluence files ...\")\n",
    "tarredfile = snowglobes.generate_fluence(model_path, modeltype, transformation, distance, outfile)\n",
    "\n",
    "print(\"Simulating detector effects with SNOwGLoBES ...\")\n",
    "snowglobes.simulate(SNOwGLoBES_path, tarredfile, detector_input=detector)\n",
    "\n",
    "print(\"Collating results ...\")\n",
    "tables = snowglobes.collate(SNOwGLoBES_path, tarredfile, skip_plots=True)\n"
   ]
  },
  {
   "cell_type": "code",
   "execution_count": null,
   "id": "e1a0d4be",
   "metadata": {},
   "outputs": [],
   "source": [
    "# Use results to print the number of events in different interaction channels\n",
    "key = f\"Collated_{outfile}_{detector}_events_smeared_weighted.dat\"\n",
    "total_events = 0\n",
    "for i, channel in enumerate(tables[key]['header'].split()):\n",
    "    if i == 0:\n",
    "        continue\n",
    "    n_events = sum(tables[key]['data'][i])\n",
    "    total_events += n_events\n",
    "    print(f\"{channel:10}: {n_events:.3f} events\")\n",
    "\n",
    "#Super-K has 32kT inner volume\n",
    "print(\"Total events in Super-K-like detector:\",0.32*total_events)"
   ]
  }
 ],
 "metadata": {
  "kernelspec": {
   "display_name": "Python 3 (ipykernel)",
   "language": "python",
   "name": "python3"
  },
  "language_info": {
   "codemirror_mode": {
    "name": "ipython",
    "version": 3
   },
   "file_extension": ".py",
   "mimetype": "text/x-python",
   "name": "python",
   "nbconvert_exporter": "python",
   "pygments_lexer": "ipython3",
   "version": "3.8.8"
  }
 },
 "nbformat": 4,
 "nbformat_minor": 5
}
